{
 "cells": [
  {
   "cell_type": "markdown",
   "id": "45ef6900-6557-41ae-8414-2a51a4bf52fb",
   "metadata": {},
   "source": [
    "# Data Science Tools and Ecosystem"
   ]
  },
  {
   "cell_type": "markdown",
   "id": "bbd8e1c7-25dd-4424-a63c-deb3819b5222",
   "metadata": {},
   "source": [
    "Dans ce carnet, les outils et l'écosystème de la science des données sont résumés."
   ]
  },
  {
   "cell_type": "markdown",
   "id": "76acdec6-aa5d-45ef-835a-105e09efca55",
   "metadata": {},
   "source": [
    "Voici quelques-uns des langages les plus utilisés par les scientifiques des données :\n",
    "1. Python\n",
    "2. SQL\n",
    "3. R"
   ]
  },
  {
   "cell_type": "markdown",
   "id": "cd90ef15-06d1-4a1d-a06f-7c34da6b6f61",
   "metadata": {},
   "source": [
    "**Objectives:** \n",
    "- Create a Jupyter Notebook\n",
    "- Insert code and markdown cells\n",
    "- Share your notebook through GitHub"
   ]
  },
  {
   "cell_type": "markdown",
   "id": "f8b34dd0-960d-4dc7-918b-a42f5a77494f",
   "metadata": {},
   "source": [
    "Voici quelques-unes des bibliothèques couramment utilisées par les scientifiques des données :\n",
    "1. Numpy\n",
    "2. Pandas\n",
    "3. Matplolit\n",
    "4. Sckit learn"
   ]
  },
  {
   "cell_type": "markdown",
   "id": "c31f8e2d-573f-4c3d-8522-3b06516bd633",
   "metadata": {},
   "source": [
    "|Data Science Tools|\n",
    "|------------|\n",
    "|RStudio|\n",
    "|Jupyter|\n",
    "|Visual Studio|"
   ]
  },
  {
   "cell_type": "markdown",
   "id": "9ba67363-b1da-4168-baf6-14ecc79e1519",
   "metadata": {},
   "source": [
    "### Below are a few examples of evaluating arithmetic expressions in Python."
   ]
  },
  {
   "cell_type": "markdown",
   "id": "33bd8445-182b-471e-be67-45ed6d339a33",
   "metadata": {},
   "source": [
    "This a simple arithmetic expression to mutiply then add integers."
   ]
  },
  {
   "cell_type": "code",
   "execution_count": 2,
   "id": "ea246704-9b2b-4b83-99a3-fcce512c93ae",
   "metadata": {},
   "outputs": [
    {
     "data": {
      "text/plain": [
       "17"
      ]
     },
     "execution_count": 2,
     "metadata": {},
     "output_type": "execute_result"
    }
   ],
   "source": [
    "(3*4)+5"
   ]
  },
  {
   "cell_type": "markdown",
   "id": "4a32c245-bca5-403d-ab73-88a19377b2fd",
   "metadata": {},
   "source": [
    "This will convert 200 minutes to hours by diving by 60."
   ]
  },
  {
   "cell_type": "code",
   "execution_count": 2,
   "id": "01b628f6-5a63-48c0-bee6-0928fc6e69a4",
   "metadata": {},
   "outputs": [
    {
     "name": "stdout",
     "output_type": "stream",
     "text": [
      "3.3333333333333335\n"
     ]
    }
   ],
   "source": [
    "minutes = 200\n",
    "heures = minutes /60\n",
    "print(heures)"
   ]
  },
  {
   "cell_type": "markdown",
   "id": "1491cbfc-dbd3-427c-8cb0-33129bbcedb8",
   "metadata": {},
   "source": [
    "## Author\n",
    "Hamza Sanmo"
   ]
  },
  {
   "cell_type": "code",
   "execution_count": null,
   "id": "eb9a59ec-04d6-4d4b-a133-0b53e9d65bce",
   "metadata": {},
   "outputs": [],
   "source": []
  }
 ],
 "metadata": {
  "kernelspec": {
   "display_name": "Python 3 (ipykernel)",
   "language": "python",
   "name": "python3"
  },
  "language_info": {
   "codemirror_mode": {
    "name": "ipython",
    "version": 3
   },
   "file_extension": ".py",
   "mimetype": "text/x-python",
   "name": "python",
   "nbconvert_exporter": "python",
   "pygments_lexer": "ipython3",
   "version": "3.12.7"
  }
 },
 "nbformat": 4,
 "nbformat_minor": 5
}
